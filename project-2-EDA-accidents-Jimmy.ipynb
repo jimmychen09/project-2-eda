{
 "cells": [
  {
   "cell_type": "code",
   "execution_count": null,
   "metadata": {},
   "outputs": [],
   "source": [
    "import numpy as np\n",
    "import pandas as pd\n",
    "import geopandas as gpd\n",
    "import seaborn as sns\n",
    "import matplotlib.pyplot as plt\n",
    "from shapely.geometry import Point, Polygon\n",
    "\n",
    "%matplotlib inline\n",
    "%config InlineBackend.figure_format = \"retina\"\n",
    "\n",
    "# Shows all columns as default\n",
    "pd.set_option(\"display.max_columns\", 500)\n",
    "\n",
    "# Plot defaults\n",
    "plt.rcParams[\"axes.grid\"] = True\n",
    "plt.rcParams[\"grid.linewidth\"] = 0.25\n",
    "plt.rcParams[\"figure.figsize\"] = (8, 6)\n",
    "plt.rcParams[\"font.size\"] = 12"
   ]
  },
  {
   "cell_type": "markdown",
   "metadata": {},
   "source": [
    "### Basic level\n",
    "\n",
    "**Read the main dataset using Pandas.**"
   ]
  },
  {
   "cell_type": "code",
   "execution_count": null,
   "metadata": {},
   "outputs": [],
   "source": [
    "acc_2016 = pd.read_csv(\n",
    "    \"./data/uk-2016-road-safety-data/dftRoadSafety_Accidents_2016.csv\")"
   ]
  },
  {
   "cell_type": "markdown",
   "metadata": {},
   "source": [
    "**Check the number of rows and columns.**"
   ]
  },
  {
   "cell_type": "code",
   "execution_count": null,
   "metadata": {},
   "outputs": [],
   "source": [
    "acc_2016.shape # m x rows by n x columns"
   ]
  },
  {
   "cell_type": "markdown",
   "metadata": {},
   "source": [
    "**Check the data type of each column.**"
   ]
  },
  {
   "cell_type": "code",
   "execution_count": null,
   "metadata": {},
   "outputs": [],
   "source": [
    "# Downcasting integers\n",
    "acc_int = acc_2016.select_dtypes(include=[\"int\"])\n",
    "cnvt_int = acc_int.apply(pd.to_numeric, downcast=\"signed\")  # pos and neg\n",
    "\n",
    "# Downcasting floats\n",
    "acc_float = acc_2016.select_dtypes(include=[\"float\"])\n",
    "cnvt_float = acc_float.apply(pd.to_numeric, downcast=\"float\")\n",
    "\n",
    "# Adding to temporary dataframe\n",
    "opt = acc_2016.copy()\n",
    "opt[cnvt_int.columns] = cnvt_int\n",
    "opt[cnvt_float.columns] = cnvt_float\n",
    "\n",
    "# Assigning some objects as categories\n",
    "opt['Time'] = acc_2016['Time'].astype(\"category\")\n",
    "opt['Local_Authority_(Highway)'] = acc_2016[\n",
    "    'Local_Authority_(Highway)'].astype(\"category\")\n",
    "opt['LSOA_of_Accident_Location'] = acc_2016[\n",
    "    'LSOA_of_Accident_Location'].astype(\"category\")\n",
    "\n",
    "# Creating dictionary for the dataset to be read again\n",
    "dtypes = opt.dtypes\n",
    "dtypes_col = dtypes.index\n",
    "dtypes_type = [i.name for i in dtypes.values]\n",
    "col_types = dict(zip(dtypes_col, dtypes_type))\n",
    "\n",
    "# Data types before and after changes\n",
    "display(\"Before: \", acc_2016.dtypes, \"After: \", opt.dtypes)"
   ]
  },
  {
   "cell_type": "markdown",
   "metadata": {},
   "source": [
    "**Read the main dataset again, using `dtype={...}` argument to specify data types. See if you can avoid a mixed types warning.**"
   ]
  },
  {
   "cell_type": "code",
   "execution_count": null,
   "metadata": {},
   "outputs": [],
   "source": [
    "acc_2016 = pd.read_csv(\n",
    "    \"./data/uk-2016-road-safety-data/dftRoadSafety_Accidents_2016.csv\", \n",
    "    dtype=col_types)"
   ]
  },
  {
   "cell_type": "markdown",
   "metadata": {},
   "source": [
    "**Read the main dataset again, using an appropriate argument to specify missing data values.**"
   ]
  },
  {
   "cell_type": "code",
   "execution_count": null,
   "metadata": {
    "scrolled": true
   },
   "outputs": [],
   "source": [
    "acc_2016.isnull().sum()"
   ]
  },
  {
   "cell_type": "markdown",
   "metadata": {},
   "source": [
    "**Convert `Date` column to datetime.**"
   ]
  },
  {
   "cell_type": "code",
   "execution_count": null,
   "metadata": {},
   "outputs": [],
   "source": [
    "acc_2016['Date'] = pd.to_datetime(acc_2016['Date'], cache=True)"
   ]
  },
  {
   "cell_type": "markdown",
   "metadata": {},
   "source": [
    "**Create a new column that shows month of a year value for every accident in the main dataset.**"
   ]
  },
  {
   "cell_type": "code",
   "execution_count": null,
   "metadata": {},
   "outputs": [],
   "source": [
    "acc_2016.insert(loc=10, \n",
    "                column='Month_Num',\n",
    "                value=acc_2016['Date'].dt.month)\n",
    "\n",
    "acc_2016.insert(loc=11, \n",
    "                column='Month_Name', \n",
    "                value=acc_2016['Date'].dt.month_name().astype(\"category\"))"
   ]
  },
  {
   "cell_type": "markdown",
   "metadata": {},
   "source": [
    "**Create a new column that shows hour of the day (24h format) for every accident in the main dataset.**"
   ]
  },
  {
   "cell_type": "code",
   "execution_count": null,
   "metadata": {},
   "outputs": [],
   "source": [
    "hour_value = pd.to_datetime(acc_2016['Time'], cache=True).dt.hour\n",
    "acc_2016.insert(loc=13, column='Hour_of_Day', value=hour_value)"
   ]
  },
  {
   "cell_type": "markdown",
   "metadata": {},
   "source": [
    "**Report average number of casualties depending on accident severity.**"
   ]
  },
  {
   "cell_type": "code",
   "execution_count": null,
   "metadata": {},
   "outputs": [],
   "source": [
    "# Loading data guide containing codes and labels \n",
    "guide = pd.read_excel(\n",
    "    \"./data/uk-2016-road-safety-data/Road-Accident-Safety-Data-Guide.xls\", \n",
    "    sheet_name=None)\n",
    "\n",
    "# Replacing accident severity codes with labels\n",
    "acc_sev_dict = guide['Accident Severity'].set_index(\"code\").T.to_dict(\"list\")\n",
    "acc_2016['Accident_Severity'].replace(acc_sev_dict, inplace=True)\n",
    "\n",
    "# Mean number of casualties by accident severity\n",
    "acc_2016.groupby('Accident_Severity')['Number_of_Casualties'].mean()"
   ]
  },
  {
   "cell_type": "markdown",
   "metadata": {},
   "source": [
    "**Create a stacked barplot by accident severity occurrences in different months.** "
   ]
  },
  {
   "cell_type": "code",
   "execution_count": null,
   "metadata": {},
   "outputs": [],
   "source": [
    "sbar = acc_2016.groupby('Month_Name', sort=False)\\\n",
    "    ['Accident_Severity'].value_counts().unstack()\n",
    "\n",
    "# Reversing a stacked barplot\n",
    "sbar.loc[:,::-1].plot(kind=\"bar\", cmap=\"copper_r\", ylim=[0,14000], stacked=True)\n",
    "\n",
    "plt.xticks(rotation=35, rotation_mode=\"anchor\", ha=\"right\");\n",
    "plt.title(\"Accident count by accident severity for different months\");\n",
    "plt.xlabel(\"Month\");\n",
    "plt.ylabel(\"Number of accidents\");\n",
    "plt.legend(loc=5);"
   ]
  },
  {
   "cell_type": "markdown",
   "metadata": {},
   "source": [
    "- February has the least accidents across each severity\n",
    "- January and November have the most acccidents"
   ]
  },
  {
   "cell_type": "markdown",
   "metadata": {},
   "source": [
    "**Create a stacked barplot by accident severity occurrences in different months for the last full year of data only.** "
   ]
  },
  {
   "cell_type": "code",
   "execution_count": null,
   "metadata": {},
   "outputs": [],
   "source": [
    "# Assigning a mask for 2016 calender year only\n",
    "calendar_year_mask = np.logical_and((acc_2016['Date'] >= \"2016-01-01\"),\n",
    "                                    (acc_2016['Date'] <= \"2016-12-31\"))\n",
    "\n",
    "acc_2016[calendar_year_mask].groupby('Month_Name', sort=False)\\\n",
    "    ['Accident_Severity'].value_counts().unstack()\\\n",
    "        .plot(kind=\"bar\", ylim=[0,14000], stacked=True)\n",
    "\n",
    "plt.xticks(rotation=35, rotation_mode=\"anchor\", ha=\"right\");\n",
    "plt.title(\"Accident count by accident severity for different months in 2016\");\n",
    "plt.xlabel(\"Month\");\n",
    "plt.ylabel(\"Number of accidents\");\n",
    "plt.legend(loc=5);"
   ]
  },
  {
   "cell_type": "markdown",
   "metadata": {},
   "source": [
    "- Same as previous but includes a 2016 calender year mask"
   ]
  },
  {
   "cell_type": "markdown",
   "metadata": {},
   "source": [
    "**Create a stacked barplot by accident severity occurrences based on the hour of the day.** "
   ]
  },
  {
   "cell_type": "code",
   "execution_count": null,
   "metadata": {},
   "outputs": [],
   "source": [
    "# Used another approach - crosstabs. \n",
    "# Noticed it forces lexical sorting on categorical data\n",
    "pd.crosstab(acc_2016['Hour_of_Day'], \n",
    "            acc_2016['Accident_Severity']).plot(kind=\"bar\", stacked=True)\n",
    "\n",
    "plt.title(\"Accident count for hour of day by accident severity\");\n",
    "plt.xlabel(\"Hour of day\");\n",
    "plt.ylabel(\"Number of accidents\");"
   ]
  },
  {
   "cell_type": "markdown",
   "metadata": {},
   "source": [
    "- Most accidents in morning and afternoon correlating with peak traffic before and after work\n",
    "- Least accidents after midnight"
   ]
  },
  {
   "cell_type": "markdown",
   "metadata": {},
   "source": [
    "### Intermediate level\n",
    "\n",
    "**Use appropriate plots for the following relationships:**\n",
    "- Number of casualties by weather conditions\n",
    "- Number of casualties by number of vehicles involved\n",
    "- Number of casualties by hour of the day\n",
    "- Number of casualties by month"
   ]
  },
  {
   "cell_type": "markdown",
   "metadata": {},
   "source": [
    "#### Number of casualties by weather conditions"
   ]
  },
  {
   "cell_type": "code",
   "execution_count": null,
   "metadata": {},
   "outputs": [],
   "source": [
    "# Viewing weather codes with labels\n",
    "weath_dict = guide['Weather'].set_index(\"code\").T.to_dict(\"list\")\n",
    "\n",
    "weath_cas = acc_2016.groupby('Weather_Conditions')\\\n",
    "    ['Number_of_Casualties'].mean()\n",
    "ax = weath_cas.plot(kind=\"bar\")\n",
    "\n",
    "# Adding labels to the x-axis using weather dictionary\n",
    "x_labels = [weath_dict[x] for x in weath_cas.index]\n",
    "ax.set_xticklabels(x_labels, rotation=35, rotation_mode=\"anchor\", ha=\"right\");\n",
    "\n",
    "plt.title(\"Mean number of casualties by weather conditions\");\n",
    "plt.xlabel(\"Weather condition\");\n",
    "plt.ylabel(\"Number of casualties\");"
   ]
  },
  {
   "cell_type": "markdown",
   "metadata": {},
   "source": [
    "- Compared to a fine day; rain, snow, high winds and fog are all factors that increase the number of casualties\n",
    "- The mean number of casualties are highest when it's snowing with high winds"
   ]
  },
  {
   "cell_type": "markdown",
   "metadata": {},
   "source": [
    "#### Number of casualties by number of vehicles involved"
   ]
  },
  {
   "cell_type": "code",
   "execution_count": null,
   "metadata": {},
   "outputs": [],
   "source": [
    "acc_2016.groupby('Number_of_Vehicles')['Number_of_Casualties'].mean()\\\n",
    "    .plot(kind=\"bar\")\n",
    "\n",
    "plt.title(\"Mean number of casualties by number of vehicles involved\");\n",
    "plt.xlabel(\"Number of vehicles\");\n",
    "plt.ylabel(\"Number of casualties\");"
   ]
  },
  {
   "cell_type": "markdown",
   "metadata": {},
   "source": [
    "- The mean number of casualties increase as the number of vehicles involved increase\n",
    "- The mean number of casualties plateaus after 6 vehicles\n",
    "- It is possible there is insufficient data for 10 or more vehicles"
   ]
  },
  {
   "cell_type": "markdown",
   "metadata": {},
   "source": [
    "#### Number of casualties by hour of the day"
   ]
  },
  {
   "cell_type": "code",
   "execution_count": null,
   "metadata": {},
   "outputs": [],
   "source": [
    "acc_2016.groupby('Hour_of_Day')['Number_of_Casualties'].count()\\\n",
    "    .plot(xticks=range(24), ylim=[0,14000])\n",
    "\n",
    "plt.title(\"Casualty count by hour\");\n",
    "plt.xlabel(\"Hour of day\");\n",
    "plt.ylabel(\"Number of casualties\");\n",
    "plt.show();\n",
    "\n",
    "acc_2016.groupby('Hour_of_Day')['Number_of_Casualties'].mean()\\\n",
    "    .plot(xticks=range(24), ylim=[1,1.5])\n",
    "\n",
    "plt.title(\"Mean casualties by hour\");\n",
    "plt.xlabel(\"Hour of day\");\n",
    "plt.ylabel(\"Number of casualties\");\n",
    "plt.show();"
   ]
  },
  {
   "cell_type": "markdown",
   "metadata": {},
   "source": [
    "- There are more casualties during the day due to more accidents\n",
    "- However, there are more casualties per accident, on average, closer to midnight"
   ]
  },
  {
   "cell_type": "markdown",
   "metadata": {},
   "source": [
    "#### Number of casualties by month"
   ]
  },
  {
   "cell_type": "code",
   "execution_count": null,
   "metadata": {},
   "outputs": [],
   "source": [
    "acc_2016.groupby('Month_Name', sort=False)['Number_of_Casualties'].count()\\\n",
    "    .plot(xticks=range(12), ylim=[10000,13000])\n",
    "\n",
    "plt.xticks(rotation=35, rotation_mode=\"anchor\", ha=\"right\");\n",
    "plt.title(\"Casualty count by month\");\n",
    "plt.xlabel(\"Month\");\n",
    "plt.ylabel(\"Number of casualties\");"
   ]
  },
  {
   "cell_type": "markdown",
   "metadata": {},
   "source": [
    "- February has the fewest casualties and November has the greatest"
   ]
  },
  {
   "cell_type": "markdown",
   "metadata": {},
   "source": [
    "**Describe a nature of relationship between speed limit and accident severity.**"
   ]
  },
  {
   "cell_type": "code",
   "execution_count": null,
   "metadata": {},
   "outputs": [],
   "source": [
    "pd.crosstab(acc_2016['Speed_limit'], \n",
    "            acc_2016['Accident_Severity'], \n",
    "            normalize=\"index\").plot(ylim=[0,1])\n",
    "\n",
    "plt.title(\"Normalised relationship between speed limit and accident severity\");\n",
    "plt.xlabel(\"Speed limit\");\n",
    "plt.ylabel(\"Normalised count\");"
   ]
  },
  {
   "cell_type": "markdown",
   "metadata": {},
   "source": [
    "- By normalising accident severity count, we see the likelihood of `Fatal` and `Serious` accidents increase with speed limit\n",
    "- `Slight` accidents decrease with `Speed_Limit`\n",
    "- There is an exception when `Speed_Limit` reaches 70"
   ]
  },
  {
   "cell_type": "markdown",
   "metadata": {},
   "source": [
    "**Load `Casuality` and `Vehicle` datasets and combine them with your base dataset.**"
   ]
  },
  {
   "cell_type": "code",
   "execution_count": null,
   "metadata": {},
   "outputs": [],
   "source": [
    "cas_2016 = pd.read_csv(\"./data/uk-2016-road-safety-data/Cas.csv\")\n",
    "veh_2016 = pd.read_csv(\"./data/uk-2016-road-safety-data/Veh.csv\")\n",
    "\n",
    "# Downcasting integers for veh_2016\n",
    "veh_int = veh_2016.select_dtypes(include=[\"int\"])\n",
    "cnvt_int = veh_int.apply(pd.to_numeric, downcast=\"signed\")\n",
    "\n",
    "# Adding to temporary df\n",
    "opt = veh_2016.copy()\n",
    "opt[cnvt_int.columns] = cnvt_int\n",
    "\n",
    "# Creating dictionary for the dataset to be read again\n",
    "dtypes = opt.dtypes\n",
    "dtypes_col = dtypes.index\n",
    "dtypes_type = [i.name for i in dtypes.values]\n",
    "col_types = dict(zip(dtypes_col, dtypes_type))\n",
    "\n",
    "# Reading vehicle dataset again and specifying datatypes\n",
    "veh_2016 = pd.read_csv(\"./data/uk-2016-road-safety-data/Veh.csv\", \n",
    "                       dtype=col_types)\n",
    "\n",
    "# Outer join casualty and vehicle datasets\n",
    "cas_veh_2016 = pd.merge(cas_2016, veh_2016, \n",
    "                        how=\"outer\", \n",
    "                        on=('Accident_Index', 'Vehicle_Reference'))\n",
    "\n",
    "# Left join accident dataset with casualty and vehicle dataset\n",
    "acc_cas_veh = pd.merge(acc_2016, cas_veh_2016, \n",
    "                       how=\"left\", \n",
    "                       on='Accident_Index')"
   ]
  },
  {
   "cell_type": "markdown",
   "metadata": {},
   "source": [
    "**Visualise/Describe relationships between:**\n",
    "- casualty severity\n",
    "- engine capacity\n",
    "- driver age\n",
    "- vehicle age\n",
    "- hour of the accident\n",
    "- month of the accident"
   ]
  },
  {
   "cell_type": "code",
   "execution_count": null,
   "metadata": {},
   "outputs": [],
   "source": [
    "# A list of variables we want to visualise a relationship\n",
    "cols = ['Casualty_Severity', 'Age_of_Driver', 'Age_of_Vehicle', \n",
    "        'Engine_Capacity_(CC)', 'Hour_of_Day', 'Month_Num']\n",
    "\n",
    "# Replacing uknown values (-1) as NaN\n",
    "acc_cas_veh['Engine_Capacity_(CC)'].replace(-1, np.NaN, inplace=True)\n",
    "acc_cas_veh['Age_of_Vehicle'].replace(-1, np.NaN, inplace=True)\n",
    "acc_cas_veh['Age_of_Driver'].replace(-1, np.NaN, inplace=True)\n",
    "\n",
    "# Replacing NaN values as median\n",
    "acc_cas_veh['Engine_Capacity_(CC)'].fillna(\n",
    "    acc_cas_veh['Engine_Capacity_(CC)'].median(), inplace=True)\n",
    "acc_cas_veh['Age_of_Vehicle'].fillna(\n",
    "    acc_cas_veh['Age_of_Vehicle'].median(), inplace=True)\n",
    "acc_cas_veh['Age_of_Driver'].fillna(\n",
    "    acc_cas_veh['Age_of_Driver'].median(), inplace=True)\n",
    "\n",
    "# Viewing casualty severity codes with labels\n",
    "cas_sev_dict = guide['Casualty Severity'].set_index(\"code\").T.to_dict(\"list\")\n",
    "\n",
    "# Assigning a mask for morning and afternoon\n",
    "am_mask = acc_cas_veh['Hour_of_Day'] < 12\n",
    "pm_mask = acc_cas_veh['Hour_of_Day'] >= 12\n",
    "\n",
    "# Plotting morning accidents\n",
    "acc_cas_veh[am_mask].groupby('Month_Name', sort=False)['Hour_of_Day'].mean()\\\n",
    "    .plot(xticks=range(12), ylim=[7.5,8])\n",
    "plt.xticks(rotation=35, rotation_mode=\"anchor\", ha=\"right\");\n",
    "plt.title(\"Mean time of morning accidents by month\");\n",
    "plt.xlabel(\"Month\");\n",
    "plt.ylabel(\"Time of accident\");\n",
    "plt.show();\n",
    "\n",
    "# Plotting afternoon accidents\n",
    "acc_cas_veh[pm_mask].groupby('Month_Name', sort=False)['Hour_of_Day'].mean()\\\n",
    "    .plot(xticks=range(12), ylim=[16.3,16.8])\n",
    "plt.xticks(rotation=35, rotation_mode=\"anchor\", ha=\"right\");\n",
    "plt.title(\"Mean time of afternoon accidents by month\");\n",
    "plt.xlabel(\"Month\");\n",
    "plt.ylabel(\"Time of accident\");\n",
    "plt.show();"
   ]
  },
  {
   "cell_type": "markdown",
   "metadata": {},
   "source": [
    "- Accidents happen closer to midday during mid-year\n",
    "- Possibly due to:\n",
    "    - increased sunlight during their Summer, so better visibility throughout day\n",
    "    - daylight savings in March and October influencing the time of accidents"
   ]
  },
  {
   "cell_type": "code",
   "execution_count": null,
   "metadata": {},
   "outputs": [],
   "source": [
    "acc_cas_veh.groupby(['Hour_of_Day', 'Casualty_Severity'])\\\n",
    "    ['Age_of_Driver'].mean().unstack().plot(xticks=range(24), ylim=[25,60])\n",
    "\n",
    "# Adding a horizontal line for mean age\n",
    "plt.hlines(y=acc_cas_veh['Age_of_Driver'].mean(), \n",
    "           xmin=0, xmax=24, \n",
    "           color=\"r\", linestyle=\"--\")\n",
    "plt.text(0, 40.5, str(\"mean\"), fontsize=12)\n",
    "plt.title(\"Mean age of driver by hour\");\n",
    "plt.xlabel(\"Hour of day\");\n",
    "plt.ylabel(\"Age of driver\");\n",
    "plt.show();\n",
    "\n",
    "# Visualise distribution and relationships\n",
    "g = sns.pairplot(acc_cas_veh[cols[0:3]].dropna(), plot_kws={\"alpha\": 0.01})\n",
    "g.fig.suptitle(\"Pairplot of driver age, vehicle age and casualty severity\")\n",
    "plt.subplots_adjust(top=0.95)       # Extra spacing for title\n",
    "plt.show();\n",
    "\n",
    "# Visualise correlation between pairs\n",
    "sns.heatmap(acc_cas_veh[cols].corr().round(2), cmap=\"coolwarm\", annot=True)\n",
    "plt.title(\"Heat of correlation between column pairs\")\n",
    "plt.show();"
   ]
  },
  {
   "cell_type": "markdown",
   "metadata": {},
   "source": [
    "- Line graph show\n",
    "    - Younger drivers are more likely to be in accidents early morning and at night\n",
    "    - Older drivers are more likely to be in acciednts during the day\n",
    "    - Older drivers are more likely to be involved in fatal accidents\n",
    "- Pairplot shows\n",
    "    - Age of driver is right skewed distribution\n",
    "    - Age of vehicle is half normal distribution\n",
    "    - Age of driver to age of vehicle is uniform (ie. no strong relationship)\n",
    "- Heatmap shows weak correlation between these features"
   ]
  },
  {
   "cell_type": "markdown",
   "metadata": {},
   "source": [
    "### Advanced level"
   ]
  },
  {
   "cell_type": "markdown",
   "metadata": {},
   "source": [
    "**Repeat the last intermediate task using the same 6 features, but consider the relationships for people using cars (excluding minibuses, buses, vans, and goods vehicles), motorcycles (including electric motorcycles), and bicycles separately.**"
   ]
  },
  {
   "cell_type": "code",
   "execution_count": null,
   "metadata": {
    "scrolled": false
   },
   "outputs": [],
   "source": [
    "# Viewing vehicle type codes with labels\n",
    "veh_dict = guide['Vehicle Type'].set_index(\"code\").T.to_dict(\"list\")\n",
    "\n",
    "# Assigning masks for car, motorcycle and bicycle\n",
    "car_mask = acc_cas_veh['Vehicle_Type'].isin(\n",
    "    [k for k, v in veh_dict.items() if \"car\" in str(v).lower()])\n",
    "motor_mask = acc_cas_veh['Vehicle_Type'].isin(\n",
    "    [k for k, v in veh_dict.items() if \"motorcycle\" in str(v).lower()])\n",
    "bike_mask = acc_cas_veh['Vehicle_Type'].isin(\n",
    "    [k for k, v in veh_dict.items() if \"pedal\" in str(v).lower()])\n",
    "car_mask.name, motor_mask.name, bike_mask.name = [\"car\", \"motorcyle\", \"bicycle\"]\n",
    "\n",
    "# Repeating the intermediate task for pairplot only\n",
    "mask_list = [car_mask, motor_mask, bike_mask]\n",
    "\n",
    "def show_pairplots(mask):\n",
    "    g = sns.pairplot(acc_cas_veh[mask].sample(frac=sample_size)[cols], \n",
    "                     plot_kws={\"alpha\": (0.01/sample_size)}, \n",
    "                     hue='Casualty_Severity')\n",
    "    title = [veh_dict[i] for i in acc_cas_veh[mask]['Vehicle_Type'].unique()]\n",
    "    g.fig.suptitle(title, fontsize=14)\n",
    "    plt.subplots_adjust(top=0.95)       # Extra spacing for title\n",
    "    return plt.show()\n",
    "\n",
    "# Pairplots take a long time, adding options for sample size to reduce run time\n",
    "sample_size = int(input(\"What sample size % would you like to evaluate? \"))/100\n",
    "\n",
    "# Iterating over the vehicle type masks\n",
    "for mask in mask_list:\n",
    "    show_pairplots(mask)"
   ]
  },
  {
   "cell_type": "markdown",
   "metadata": {},
   "source": [
    "**Remove outliers that you can identify (if any), and justify your decisions.**"
   ]
  },
  {
   "cell_type": "code",
   "execution_count": null,
   "metadata": {},
   "outputs": [],
   "source": [
    "# Exploring age of driver outliers by boxplot\n",
    "sns.boxplot(x='Vehicle_Type', y='Age_of_Driver', data=acc_cas_veh, fliersize=2)\n",
    "plt.title(\"Boxplot of age of driver by vehicle type\")\n",
    "plt.show();\n",
    "\n",
    "# Exploring age of vehicle outliers by boxplot\n",
    "sns.boxplot(x='Vehicle_Type', y='Age_of_Vehicle', data=acc_cas_veh, fliersize=2)\n",
    "plt.title(\"Boxplot of age of vehicle by vehicle type\")\n",
    "plt.show();\n",
    "\n",
    "# Removing outliers for age of vehicle by vehicle type\n",
    "for key in veh_dict.keys():\n",
    "    acc_cas_veh = acc_cas_veh[~(\n",
    "        # Iterating through vehicle type\n",
    "        (acc_cas_veh['Vehicle_Type'] == key) &\n",
    "        # Removing mean + 3 stds\n",
    "        ((acc_cas_veh['Age_of_Vehicle'] - acc_cas_veh['Age_of_Vehicle'].mean())\n",
    "         > (3*acc_cas_veh['Age_of_Vehicle'].std()))\n",
    "    )]\n",
    "\n",
    "# Removing outliers for age of driver by vehicle type\n",
    "for key in veh_dict.keys():  \n",
    "    acc_cas_veh = acc_cas_veh[~(\n",
    "        # Iterating through vehicle type\n",
    "        (acc_cas_veh['Vehicle_Type'] == key) &\n",
    "        # Removing mean + 3 stds\n",
    "        ((acc_cas_veh['Age_of_Driver'] - acc_cas_veh['Age_of_Driver'].mean())\n",
    "         > (3*acc_cas_veh['Age_of_Driver'].std()))\n",
    "    )]"
   ]
  },
  {
   "cell_type": "markdown",
   "metadata": {},
   "source": [
    "- We can observe from `Age_of_Driver` and `Age_of_Vehicle` scatterplots and boxplots there are outliers\n",
    "- In both scenarios, outliers vary by `Vehicle_Type`\n",
    "- Outliers are right skewed (ie. they are older vehicles and elderly persons)\n",
    "- Decided to remove outliers by mean + 3 standard deviations instead of IQR"
   ]
  },
  {
   "cell_type": "markdown",
   "metadata": {},
   "source": [
    "**Using `MakeModel` data, identify 5 vehicle makes (separately for cars and motorcycles) that are most commonly involved in fatal accidents based on this data. Report proportion of accidents for these 10 vehicle makers.**"
   ]
  },
  {
   "cell_type": "code",
   "execution_count": null,
   "metadata": {},
   "outputs": [],
   "source": [
    "def occupant_fatality(vehicle, passenger, fatality):\n",
    "    event = pd.concat((vehicle, passenger, fatality), axis=1).all(axis=1)\n",
    "    result = make_cas[event].groupby('make')['Accident_Index'].nunique().nlargest()\n",
    "    result.sort_values().plot(kind=\"barh\")\n",
    "    plt.title(\"{0} makes in accidents that resulted in occupant fatality\"\n",
    "             .format(vehicle.name.title()));\n",
    "    plt.xlabel(\"Accidents with occupant fatality\");\n",
    "    plt.ylabel(\"Make of {0}\".format(vehicle.name));\n",
    "    return plt.show();\n",
    "\n",
    "make_2016 = pd.read_csv(\"./data/uk-2016-road-safety-data/MakeModel2016.csv\")\n",
    "\n",
    "# Left join make dataset with casualty dataset\n",
    "make_cas = pd.merge(make_2016, cas_2016, \n",
    "                    how=\"left\", \n",
    "                    on=('Accident_Index', 'Vehicle_Reference'))\n",
    "\n",
    "# Viewing casualty severity codes with labels\n",
    "cas_sev_dict = guide['Casualty Severity'].set_index(\"code\").T.to_dict(\"list\")\n",
    "\n",
    "# Assigning mask for casualty fatality\n",
    "fatal_mask = make_cas['Casualty_Severity'] == 1   # Fatal\n",
    "\n",
    "# Assigning masks for car and motorcycle occupants\n",
    "car_pax_mask = make_cas['Casualty_Type'].isin(\n",
    "    [k for k, v in veh_dict.items() if \"car\" in str(v).lower()])\n",
    "motor_pax_mask = make_cas['Casualty_Type'].isin(\n",
    "    [k for k, v in veh_dict.items() if \"motorcycle\" in str(v).lower()])\n",
    "\n",
    "# Car makes most commonly involved in fatal accidents\n",
    "occupant_fatality(car_mask, car_pax_mask, fatal_mask)\n",
    "\n",
    "# Motorcycle makes most commonly involved in fatal accidents\n",
    "occupant_fatality(motor_mask, motor_pax_mask, fatal_mask)"
   ]
  },
  {
   "cell_type": "markdown",
   "metadata": {},
   "source": [
    "- The question was based on vehicle makes involved in a fatal accident. Therefore, we are looking at `['Accident_Index'].nunique()`\n",
    "- If we wanted to count total casualties, we could have used `make_cas[event]['make'].value_counts()`\n",
    "- There are more car occupant fatalities than motorcycle occupant fatalities"
   ]
  },
  {
   "cell_type": "markdown",
   "metadata": {},
   "source": [
    "**What are most dangerous vehicle manoeuvres and why?**"
   ]
  },
  {
   "cell_type": "code",
   "execution_count": null,
   "metadata": {},
   "outputs": [],
   "source": [
    "def manoeuvre_fatality(casualty_class, fatality):\n",
    "    print(\"Most dangerous vehicle manoeuvres resuling in {0} fatality: \"\n",
    "         .format(casualty_class.name))\n",
    "    event = pd.concat((casualty_class, fatality), axis=1).all(axis=1)\n",
    "    return display(make_cas[event]['Veh_Mnvr_label'].value_counts().head())\n",
    "    \n",
    "# Adding column for vehicle manoeuvre labels\n",
    "mnvr_dict = guide['Vehicle Manoeuvre'].set_index(\"code\").T.to_dict(\"list\")\n",
    "make_cas['Veh_Mnvr_label'] = make_cas['Vehicle_Manoeuvre'].replace(mnvr_dict)\n",
    "\n",
    "# Viewing casualty class codes with labels\n",
    "cas_class_dict = guide['Casualty Class'].set_index(\"code\").T.to_dict(\"list\")\n",
    "\n",
    "# Assigning masks for driver, passenger and pedestrian \n",
    "drv_mask = make_cas['Casualty_Class'] == 1      # Driver\n",
    "pax_mask = make_cas['Casualty_Class'] == 2      # Passenger \n",
    "ped_mask = make_cas['Casualty_Class'] == 3      # Pedestrian\n",
    "drv_mask.name, pax_mask.name, ped_mask.name  = [\"driver\", \"passenger\", \"pedestrian\"]\n",
    "\n",
    "# Most dangerous vehicle manoeuvres for driver fatality\n",
    "manoeuvre_fatality(drv_mask, fatal_mask)\n",
    "\n",
    "# Most dangerous vehicle manoeuvres for passenger fatality\n",
    "manoeuvre_fatality(pax_mask, fatal_mask)\n",
    "\n",
    "# Most dangerous vehicle manoeuvres for pedestrian fatality\n",
    "manoeuvre_fatality(ped_mask, fatal_mask)"
   ]
  },
  {
   "cell_type": "markdown",
   "metadata": {},
   "source": [
    "- The most dangerous vehicle manoeuvre is a vehicle going ahead other (ie. straight)"
   ]
  },
  {
   "cell_type": "markdown",
   "metadata": {},
   "source": [
    "**Which initial point of impact is most dangerous and why?**"
   ]
  },
  {
   "cell_type": "code",
   "execution_count": null,
   "metadata": {},
   "outputs": [],
   "source": [
    "def impact_fatality(casualty_class, fatality):\n",
    "    print(\"Most dangerous point of impact resulting in {0} fatality: \"\n",
    "          .format(casualty_class.name))\n",
    "    event = pd.concat((casualty_class, fatality), axis=1).all(axis=1)\n",
    "    return display(make_cas[event]['1st_POI_label'].value_counts().head())\n",
    "\n",
    "# Adding column for 1st point of impact labels\n",
    "impact_dict = guide['1st Point of Impact'].set_index(\"code\").T.to_dict(\"list\")\n",
    "make_cas['1st_POI_label'] = make_cas['1st_Point_of_Impact'].replace(impact_dict)\n",
    "\n",
    "# Most dangerous point of impact for driver fatality\n",
    "impact_fatality(drv_mask, fatal_mask)\n",
    "\n",
    "# Most dangerous point of impact for pedestrian fatality\n",
    "impact_fatality(pax_mask, fatal_mask)\n",
    "\n",
    "# Most dangerous point of impact for pedestrian fatality\n",
    "impact_fatality(ped_mask, fatal_mask)"
   ]
  },
  {
   "cell_type": "markdown",
   "metadata": {},
   "source": [
    "- The most dangerous point of impact (POI) is front-end collisions\n",
    "- In UK, drivers sit on the right (offside) and passengers on the left (nearside)\n",
    "    - second most dangerous POI for drivers is offside\n",
    "    - second most dangerous POI for passengers is nearside"
   ]
  },
  {
   "cell_type": "markdown",
   "metadata": {},
   "source": [
    "**Who are safer drivers: women or men, and why?**"
   ]
  },
  {
   "cell_type": "code",
   "execution_count": null,
   "metadata": {},
   "outputs": [],
   "source": [
    "def safe_drivers(veh_mask):\n",
    "    for k, v in sorted(gender_dict.items())[1:3]:       # Male and female\n",
    "        or_mask = pd.concat((veh_mask, \n",
    "                             make_cas['Sex_label'] == v[0]), \n",
    "                            axis=1).all(axis=1)\n",
    "        and_mask = pd.concat((veh_mask, \n",
    "                              make_cas['Sex_label'].isin([\"Male\", \"Female\"])),\n",
    "                             axis=1).all(axis=1)\n",
    "        gender_acc = len(make_cas[or_mask]\n",
    "                         .groupby(['Accident_Index', 'Vehicle_Reference'])\n",
    "                         .size())\n",
    "        total_acc = len(make_cas[and_mask]\n",
    "                        .groupby(['Accident_Index', 'Vehicle_Reference'])\n",
    "                        .size())\n",
    "        gender_acc_pct = round(gender_acc/total_acc*100)\n",
    "        print(\"{0} is involved in {1}% of {2} accidents\"\n",
    "              .format(v[0], gender_acc_pct, veh_mask.name))\n",
    "\n",
    "# Adding column for sex of driver labels\n",
    "gender_dict = guide['Sex of Driver'].set_index(\"code\").T.to_dict(\"list\")\n",
    "make_cas['Sex_label'] = make_cas['Sex_of_Driver'].replace(gender_dict)\n",
    "\n",
    "# Gender driving stats for cars\n",
    "safe_drivers(car_mask)\n",
    "\n",
    "# Gender driving stats for motorcycles\n",
    "safe_drivers(motor_mask)"
   ]
  },
  {
   "cell_type": "markdown",
   "metadata": {},
   "source": [
    "- Men are involved in 2/3 of car accidents. However, men travel twice the distance as women on average\n",
    "    - *Men drive twice as many miles per year, on average, than women*\n",
    "    - source: <http://www.brake.org.uk/facts-resources/1593-driver-gender>\n",
    "- If we consider this, men are just as safe as women per distance travelled"
   ]
  },
  {
   "cell_type": "markdown",
   "metadata": {},
   "source": [
    "**What is safer in terms of number of fatalities in severe car accidents: rear or front seats, and why?**"
   ]
  },
  {
   "cell_type": "code",
   "execution_count": null,
   "metadata": {},
   "outputs": [],
   "source": [
    "# Viewing car passenger codes with labels\n",
    "seat_dict = guide['Car Passenger'].set_index(\"code\").T.to_dict(\"list\")\n",
    "                                                        \n",
    "# Assigning masks for seating and accident severity\n",
    "fatal_mask = acc_cas_veh['Casualty_Severity'] == 1      # Fatal\n",
    "front_mask = acc_cas_veh['Car_Passenger'] == 1          # Front seat\n",
    "rear_mask = acc_cas_veh['Car_Passenger'] == 2           # Rear seat\n",
    "front_mask.name, rear_mask.name = [\"front seat\", \"rear seat\"]\n",
    "seat_mask_list = [front_mask, rear_mask]\n",
    "sev_fatal_mask = acc_cas_veh['Accident_Severity'].isin([\"Fatal\"])\n",
    "sev_srs_mask = acc_cas_veh['Accident_Severity'].isin([\"Fatal\", \"Serious\"])\n",
    "sev_no_mask = (acc_cas_veh['Accident_Severity'] == \"all\") | True\n",
    "sev_fatal_mask.name = \"fatal\"\n",
    "sev_srs_mask.name = \"serious\"\n",
    "sev_no_mask.name = \"reported\"\n",
    "\n",
    "def seating_fatality(seat_mask_list, sev_mask = sev_no_mask):\n",
    "    print(\"In a {0} accident: \".format(sev_mask.name))\n",
    "    for seat_mask in seat_mask_list:\n",
    "        seat_fatal_mask = pd.concat((seat_mask, \n",
    "                                     sev_mask, \n",
    "                                     fatal_mask), axis=1).all(axis=1)\n",
    "        seat_total_mask = pd.concat((seat_mask, \n",
    "                                     sev_mask), axis=1).all(axis=1)\n",
    "        seat_fatal_cnt = len(acc_cas_veh[seat_fatal_mask]\n",
    "                             .groupby(['Accident_Index', 'Casualty_Reference'])\n",
    "                             .size())\n",
    "        seat_total_cnt = len(acc_cas_veh[seat_total_mask]\n",
    "                             .groupby(['Accident_Index', 'Casualty_Reference'])\n",
    "                             .size())\n",
    "        seat_fatal_pct = round(seat_fatal_cnt/seat_total_cnt*100, 2)\n",
    "        print(\"{0}% of {1} passengers resulted in a fatality\"\n",
    "              .format(seat_fatal_pct, seat_mask.name))\n",
    "\n",
    "# Seating fatality for all reported accidents\n",
    "seating_fatality(seat_mask_list)\n",
    "\n",
    "# Seating fatality for all serious accidents\n",
    "seating_fatality(seat_mask_list, sev_srs_mask)\n",
    "\n",
    "# Seating fatality for all fatal accidents\n",
    "seating_fatality(seat_mask_list, sev_fatal_mask)"
   ]
  },
  {
   "cell_type": "markdown",
   "metadata": {},
   "source": [
    "- It's safer to sit at the back\n",
    "- This make sense since the most dangerous point of impact is front-end collisions\n",
    "- Used `acc_cas_veh` dataframe as it allows an additional mask for `Accident_Severity`"
   ]
  },
  {
   "cell_type": "markdown",
   "metadata": {},
   "source": [
    "### Bonus"
   ]
  },
  {
   "cell_type": "markdown",
   "metadata": {},
   "source": [
    "**Plot accident locations using Geopandas. User color coding to indicate incident severity.**"
   ]
  },
  {
   "cell_type": "code",
   "execution_count": null,
   "metadata": {},
   "outputs": [],
   "source": [
    "geometry = [Point(xy) for xy in zip(acc_2016['Longitude'], \n",
    "                                    acc_2016['Latitude'])]\n",
    "\n",
    "# Converting to geodataframe\n",
    "acc_gdf = gpd.GeoDataFrame(acc_2016.drop(['Longitude', 'Latitude'], axis=1),\n",
    "                           crs={\"init\": \"epsg:4326\"},   # For long, lat\n",
    "                           geometry = geometry)\n",
    "\n",
    "# Loading shapefile with UK countries\n",
    "countries = gpd.read_file(\"./data/subdivisions/gadm36_GBR_1.shp\")\n",
    "\n",
    "# Countries\n",
    "countries.set_index('NAME_1', inplace=True)\n",
    "countries['Centroid'] = countries['geometry'].centroid  # Centre point\n",
    "\n",
    "# Seting figure and axis\n",
    "fig, ax = plt.subplots(figsize=(12,12))\n",
    "\n",
    "# Adding base map of UK\n",
    "countries.plot(cmap='Pastel2', ax=ax, linewidth=0.5, edgecolor=\"k\")\n",
    "\n",
    "# Plotting accidents for each severity\n",
    "p1 = acc_gdf[acc_gdf['Accident_Severity'] == \"Fatal\"]\n",
    "p1.plot(ax=ax, color=\"red\", alpha=0.5, markersize=1, label=\"Fatal\")\n",
    "p2 = acc_gdf[acc_gdf['Accident_Severity'] == \"Serious\"]\n",
    "p2.plot(ax=ax, color=\"blue\", alpha=0.2, markersize=1, label=\"Serious\")\n",
    "p3 = acc_gdf[acc_gdf['Accident_Severity'] == \"Slight\"]\n",
    "p3.plot(ax=ax, color=\"green\", alpha=0.1, markersize=1, label=\"Slight\")\n",
    "\n",
    "# Adding country labels\n",
    "box = dict(boxstyle=\"round\", facecolor=\"linen\", alpha=1)\n",
    "for point in countries.iterrows():\n",
    "    ax.text(point[1]['Centroid'].x,\n",
    "            point[1]['Centroid'].y,\n",
    "            point[0],\n",
    "            horizontalalignment=\"center\",\n",
    "            bbox=box)\n",
    "\n",
    "ax.set_position([0,0,1,1,])\n",
    "ax.set_xlim(-8.5, 2)\n",
    "ax.set_ylim(49.5, 61)\n",
    "ax.get_xaxis().set_visible(False)\n",
    "ax.get_yaxis().set_visible(False)\n",
    "ax.legend(title=\"Accident Severity\", markerscale=5)\n",
    "\n",
    "# Saving figure to a file\n",
    "# plt.savefig(\"UK_accident_locations.png\", dpi=108)\n",
    "plt.show()"
   ]
  },
  {
   "cell_type": "markdown",
   "metadata": {},
   "source": [
    "<img src=\"UK_accident_locations.png\" alt=\"UK accident locations\" title=\"UK accident location\"/>\n",
    "- Accidents by severity plotted onto a basemap of UK\n",
    "- Can see a concentration of accidents in London, Birmingham and Glasgow"
   ]
  },
  {
   "cell_type": "markdown",
   "metadata": {},
   "source": [
    "**What other interesting relationships can you identify in the dataset?**"
   ]
  },
  {
   "cell_type": "code",
   "execution_count": null,
   "metadata": {},
   "outputs": [],
   "source": [
    "# Loading shapefile with LSOA boundaries\n",
    "lsoa = gpd.read_file(\"./data/LSOA/Lower_Layer_Super_Output_Areas_December_2011_Full_Extent__Boundaries_in_England_and_Wales.shp\")\n",
    "\n",
    "# Transforming to latitude and longitude co-ordinates\n",
    "lsoa.to_crs(epsg=4326, inplace=True)\n",
    "\n",
    "# Copying dataframe with columns required\n",
    "acc_count = acc_2016[['Accident_Index', 'LSOA_of_Accident_Location']].copy()\n",
    "\n",
    "# Renaming LSOA columns\n",
    "lsoa.rename(columns={'lsoa11cd':'LSOA'}, inplace=True)\n",
    "acc_count.rename(columns={'LSOA_of_Accident_Location':'LSOA'}, inplace=True)\n",
    "\n",
    "# Adding new column for count of accidents per LSOA\n",
    "acc_count = acc_count.groupby(['LSOA']).size().reset_index()\n",
    "acc_count.rename(columns={0:'Accident_Count'}, inplace=True)\n",
    "\n",
    "# Converting to geodataframe\n",
    "acc_count = gpd.GeoDataFrame(acc_count, crs={\"init\": \"epsg:4326\"})\n",
    "\n",
    "# Left join LSOA dataset with accident count dataset\n",
    "lsoa_count = pd.merge(lsoa, acc_count, how=\"left\", on='LSOA')\n",
    "\n",
    "# Replacing NaN values as 0\n",
    "lsoa_count['Accident_Count'].fillna(0, inplace=True)\n",
    "\n",
    "# Seting figure and axis\n",
    "fig, ax = plt.subplots(figsize=(12,12))\n",
    "\n",
    "lsoa_count.plot(ax=ax, column='Accident_Count', scheme=\"fisher_jenks\", \n",
    "                cmap=\"OrRd\", legend=True, linewidth=0.1, edgecolor=\"grey\")\n",
    "\n",
    "ax.set_position([0,0,1,1,])\n",
    "ax.set_xlim(-7, 2)\n",
    "ax.set_ylim(49.5, 56)\n",
    "ax.get_xaxis().set_visible(False)\n",
    "ax.get_yaxis().set_visible(False)\n",
    "\n",
    "# Saving figure to a file\n",
    "# plt.savefig(\"LSOA_accident_locations.png\", dpi=108)\n",
    "plt.show()"
   ]
  },
  {
   "cell_type": "markdown",
   "metadata": {},
   "source": [
    "<img src=\"LSOA_accident_locations.png\" alt=\"LSOA accident locations\" title=\"LSOA accident locations\"/>\n",
    "- Count of accidents plotted per LSOA in England and Wales\n",
    "- LSOA (Lower Layer Super Output Areas) is a geographic area, like a postcode, that contains roughly 1500 people\n",
    "- LSOA areas in dark red have had multiple accidents reported. Therefore, if you live or work in these areas, expect to pay a higher premium for insurance"
   ]
  },
  {
   "cell_type": "markdown",
   "metadata": {},
   "source": [
    "**What interesting questions can you ask/answer about/using the dataset?**"
   ]
  },
  {
   "cell_type": "markdown",
   "metadata": {},
   "source": [
    "**Which day of the week has the most accidents?**"
   ]
  },
  {
   "cell_type": "code",
   "execution_count": null,
   "metadata": {},
   "outputs": [],
   "source": [
    "# Replacing day of week codes with labels\n",
    "day_dict = guide['Day of Week'].set_index(\"code\").T.to_dict(\"list\")\n",
    "acc_2016['Day_of_Week'] = acc_2016['Day_of_Week'].replace(day_dict)\n",
    "\n",
    "acc_2016.groupby('Day_of_Week')['Accident_Index'].count().sort_values(ascending=False)"
   ]
  },
  {
   "cell_type": "markdown",
   "metadata": {},
   "source": [
    "- Friday"
   ]
  },
  {
   "cell_type": "markdown",
   "metadata": {},
   "source": [
    "**Are EVs safer than internal combustion engine cars for occupant safety?**"
   ]
  },
  {
   "cell_type": "code",
   "execution_count": null,
   "metadata": {},
   "outputs": [],
   "source": [
    "# Viewing propulsion codes with labels\n",
    "engine_dict = guide['Vehicle Propulsion Code'].set_index(\"code\").T.to_dict(\"list\")\n",
    "\n",
    "# Viewing casualty severity codes with labels\n",
    "cas_class_dict = guide['Casualty Class'].set_index(\"code\").T.to_dict(\"list\")\n",
    "\n",
    "# Assigning mask for car driver and passenger\n",
    "car_pax_mask = acc_cas_veh['Casualty_Class'].isin([1, 2])   # driver and passenger\n",
    "\n",
    "# Seting figure and axis\n",
    "fig, ax = plt.subplots(figsize=(12,12))\n",
    "\n",
    "for k, v in engine_dict.items():\n",
    "    if isinstance(k, int) and (np.sum(acc_cas_veh['Propulsion_Code'] == k) > 100):\n",
    "        eng_mask = acc_cas_veh['Propulsion_Code'] == k\n",
    "        pax_eng_mask = pd.concat((car_pax_mask, eng_mask), axis=1).all(axis=1)\n",
    "        g = acc_cas_veh[pax_eng_mask]['Casualty_Severity'].value_counts()\n",
    "        g.plot(ax=ax, logy=True, label=v[0])\n",
    "        for x, y in enumerate(g):\n",
    "            ax.text(g.index[x], y+0.02, str(y), fontsize=12)\n",
    "\n",
    "ax.legend(title=\"Engine type\")\n",
    "x_labels = [cas_sev_dict[x] for x in g.index[::-1]]\n",
    "ax.set_xticklabels(x_labels)\n",
    "plt.xticks(range(1,4))\n",
    "plt.title(\"Count of casualty severity by engine type\");\n",
    "plt.xlabel(\"Casualty class\");\n",
    "plt.ylabel(\"Count\");\n",
    "plt.show();"
   ]
  },
  {
   "cell_type": "markdown",
   "metadata": {},
   "source": [
    "- Not enough data to assess EV safety\n",
    "- Judging by slope and proportions of fatalities\n",
    "    - Hybrid electric is safest\n",
    "    - Petrol is most dangerous"
   ]
  },
  {
   "cell_type": "code",
   "execution_count": null,
   "metadata": {
    "scrolled": false
   },
   "outputs": [],
   "source": []
  }
 ],
 "metadata": {
  "kernelspec": {
   "display_name": "Python 3",
   "language": "python",
   "name": "python3"
  },
  "language_info": {
   "codemirror_mode": {
    "name": "ipython",
    "version": 3
   },
   "file_extension": ".py",
   "mimetype": "text/x-python",
   "name": "python",
   "nbconvert_exporter": "python",
   "pygments_lexer": "ipython3",
   "version": "3.6.5"
  }
 },
 "nbformat": 4,
 "nbformat_minor": 2
}
