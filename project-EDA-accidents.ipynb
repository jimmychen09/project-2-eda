{
 "cells": [
  {
   "cell_type": "markdown",
   "metadata": {},
   "source": [
    "<img src=\"http://imgur.com/1ZcRyrc.png\" style=\"float: left; margin: 20px; height: 55px\">\n",
    "\n",
    "# Project 2: Analyzing  Road Safety Data\n",
    "\n",
    "_Author: Dima Galat (Sydney)_\n",
    "\n",
    "---"
   ]
  },
  {
   "cell_type": "markdown",
   "metadata": {},
   "source": [
    "For Project 2, you are asked to analyze a dataset collected by UK police forces. The same dataset is published at https://data.gov.uk/dataset/road-accidents-safety-data. This dataset provides detailed information about personal injury accidents on public roads from 2005 to 2016 that were reported to the police. Damage-only accidents with no human casualties aren't included in this data.\n",
    "\n",
    "This dataset consists of 4 csv data files and an Excel file with variable descriptions. Main data file is called `dftRoadSafety_Accidents_2016` and it provides details of date, time and location, a summary of all reported vehicles and pedestrians involved in road accidents and the total number of casualties, by severity. Details in the casualty and vehicle files can be linked to the relevant accident by the \"Accident_Index\" field.\n",
    "\n",
    "This exercise is designed to take you through exploratory data analysis using Pandas. You will be required to understand the dataset and report a variety of observations about the dataset. This task will allow you to practice conducting EDA on a real-world data, and assumes that you are comfortable enough with Python to focus on honing your analysis skills.\n",
    "\n",
    "---\n",
    "\n",
    "Please clearly state any assumptions you are making here:\n",
    "[]"
   ]
  },
  {
   "cell_type": "code",
   "execution_count": 1,
   "metadata": {
    "scrolled": true
   },
   "outputs": [
    {
     "data": {
      "text/html": [
       "<div>\n",
       "<style scoped>\n",
       "    .dataframe tbody tr th:only-of-type {\n",
       "        vertical-align: middle;\n",
       "    }\n",
       "\n",
       "    .dataframe tbody tr th {\n",
       "        vertical-align: top;\n",
       "    }\n",
       "\n",
       "    .dataframe thead th {\n",
       "        text-align: right;\n",
       "    }\n",
       "</style>\n",
       "<table border=\"1\" class=\"dataframe\">\n",
       "  <thead>\n",
       "    <tr style=\"text-align: right;\">\n",
       "      <th></th>\n",
       "      <th>Accident Circumstances</th>\n",
       "      <th>Vehicle</th>\n",
       "      <th>Casualty</th>\n",
       "    </tr>\n",
       "  </thead>\n",
       "  <tbody>\n",
       "    <tr>\n",
       "      <th>0</th>\n",
       "      <td>Accident Index</td>\n",
       "      <td>Accident Index</td>\n",
       "      <td>Accident Index</td>\n",
       "    </tr>\n",
       "    <tr>\n",
       "      <th>1</th>\n",
       "      <td>Police Force</td>\n",
       "      <td>Vehicle Reference</td>\n",
       "      <td>Vehicle Reference</td>\n",
       "    </tr>\n",
       "    <tr>\n",
       "      <th>2</th>\n",
       "      <td>Accident Severity</td>\n",
       "      <td>Vehicle Type</td>\n",
       "      <td>Casualty Reference</td>\n",
       "    </tr>\n",
       "    <tr>\n",
       "      <th>3</th>\n",
       "      <td>Number of Vehicles</td>\n",
       "      <td>Towing and Articulation</td>\n",
       "      <td>Casualty Class</td>\n",
       "    </tr>\n",
       "    <tr>\n",
       "      <th>4</th>\n",
       "      <td>Number of Casualties</td>\n",
       "      <td>Vehicle Manoeuvre</td>\n",
       "      <td>Sex of Casualty</td>\n",
       "    </tr>\n",
       "    <tr>\n",
       "      <th>5</th>\n",
       "      <td>Date (DD/MM/YYYY)</td>\n",
       "      <td>Vehicle Location-Restricted Lane</td>\n",
       "      <td>Age of Casualty</td>\n",
       "    </tr>\n",
       "    <tr>\n",
       "      <th>6</th>\n",
       "      <td>Day of Week</td>\n",
       "      <td>Junction Location</td>\n",
       "      <td>Age Band of Casualty</td>\n",
       "    </tr>\n",
       "    <tr>\n",
       "      <th>7</th>\n",
       "      <td>Time (HH:MM)</td>\n",
       "      <td>Skidding and Overturning</td>\n",
       "      <td>Casualty Severity</td>\n",
       "    </tr>\n",
       "    <tr>\n",
       "      <th>8</th>\n",
       "      <td>Location Easting OSGR (Null if not known)</td>\n",
       "      <td>Hit Object in Carriageway</td>\n",
       "      <td>Pedestrian Location</td>\n",
       "    </tr>\n",
       "    <tr>\n",
       "      <th>9</th>\n",
       "      <td>Location Northing OSGR (Null if not known)</td>\n",
       "      <td>Vehicle Leaving Carriageway</td>\n",
       "      <td>Pedestrian Movement</td>\n",
       "    </tr>\n",
       "    <tr>\n",
       "      <th>10</th>\n",
       "      <td>Longitude (Null if not known)</td>\n",
       "      <td>Hit Object off Carriageway</td>\n",
       "      <td>Car Passenger</td>\n",
       "    </tr>\n",
       "    <tr>\n",
       "      <th>11</th>\n",
       "      <td>Latitude (Null if not known)</td>\n",
       "      <td>1st Point of Impact</td>\n",
       "      <td>Bus or Coach Passenger</td>\n",
       "    </tr>\n",
       "    <tr>\n",
       "      <th>12</th>\n",
       "      <td>Local Authority (District)</td>\n",
       "      <td>Was Vehicle Left Hand Drive</td>\n",
       "      <td>Pedestrian Road Maintenance Worker (From 2011)</td>\n",
       "    </tr>\n",
       "    <tr>\n",
       "      <th>13</th>\n",
       "      <td>Local Authority (Highway Authority - ONS code)</td>\n",
       "      <td>Journey Purpose of Driver</td>\n",
       "      <td>Casualty Type</td>\n",
       "    </tr>\n",
       "    <tr>\n",
       "      <th>14</th>\n",
       "      <td>1st Road Class</td>\n",
       "      <td>Sex of Driver</td>\n",
       "      <td>Casualty IMD Decile</td>\n",
       "    </tr>\n",
       "    <tr>\n",
       "      <th>15</th>\n",
       "      <td>1st Road Number</td>\n",
       "      <td>Age of Driver</td>\n",
       "      <td>Casualty Home Area Type</td>\n",
       "    </tr>\n",
       "    <tr>\n",
       "      <th>16</th>\n",
       "      <td>Road Type</td>\n",
       "      <td>Age Band of Driver</td>\n",
       "      <td>NaN</td>\n",
       "    </tr>\n",
       "    <tr>\n",
       "      <th>17</th>\n",
       "      <td>Speed limit</td>\n",
       "      <td>Engine Capacity</td>\n",
       "      <td>NaN</td>\n",
       "    </tr>\n",
       "    <tr>\n",
       "      <th>18</th>\n",
       "      <td>Junction Detail</td>\n",
       "      <td>Vehicle Propulsion Code</td>\n",
       "      <td>NaN</td>\n",
       "    </tr>\n",
       "    <tr>\n",
       "      <th>19</th>\n",
       "      <td>Junction Control</td>\n",
       "      <td>Age of Vehicle (manufacture)</td>\n",
       "      <td>NaN</td>\n",
       "    </tr>\n",
       "    <tr>\n",
       "      <th>20</th>\n",
       "      <td>2nd Road Class</td>\n",
       "      <td>Driver IMD Decile</td>\n",
       "      <td>NaN</td>\n",
       "    </tr>\n",
       "    <tr>\n",
       "      <th>21</th>\n",
       "      <td>2nd Road Number</td>\n",
       "      <td>Driver Home Area Type</td>\n",
       "      <td>NaN</td>\n",
       "    </tr>\n",
       "    <tr>\n",
       "      <th>22</th>\n",
       "      <td>Pedestrian Crossing-Human Control</td>\n",
       "      <td>NaN</td>\n",
       "      <td>NaN</td>\n",
       "    </tr>\n",
       "    <tr>\n",
       "      <th>23</th>\n",
       "      <td>Pedestrian Crossing-Physical Facilities</td>\n",
       "      <td>NaN</td>\n",
       "      <td>NaN</td>\n",
       "    </tr>\n",
       "    <tr>\n",
       "      <th>24</th>\n",
       "      <td>Light Conditions</td>\n",
       "      <td>NaN</td>\n",
       "      <td>NaN</td>\n",
       "    </tr>\n",
       "    <tr>\n",
       "      <th>25</th>\n",
       "      <td>Weather Conditions</td>\n",
       "      <td>NaN</td>\n",
       "      <td>NaN</td>\n",
       "    </tr>\n",
       "    <tr>\n",
       "      <th>26</th>\n",
       "      <td>Road Surface Conditions</td>\n",
       "      <td>NaN</td>\n",
       "      <td>NaN</td>\n",
       "    </tr>\n",
       "    <tr>\n",
       "      <th>27</th>\n",
       "      <td>Special Conditions at Site</td>\n",
       "      <td>NaN</td>\n",
       "      <td>NaN</td>\n",
       "    </tr>\n",
       "    <tr>\n",
       "      <th>28</th>\n",
       "      <td>Carriageway Hazards</td>\n",
       "      <td>NaN</td>\n",
       "      <td>NaN</td>\n",
       "    </tr>\n",
       "    <tr>\n",
       "      <th>29</th>\n",
       "      <td>Urban or Rural Area</td>\n",
       "      <td>NaN</td>\n",
       "      <td>NaN</td>\n",
       "    </tr>\n",
       "    <tr>\n",
       "      <th>30</th>\n",
       "      <td>Did Police Officer Attend Scene of Accident</td>\n",
       "      <td>NaN</td>\n",
       "      <td>NaN</td>\n",
       "    </tr>\n",
       "    <tr>\n",
       "      <th>31</th>\n",
       "      <td>Lower Super Ouput Area of Accident_Location (E...</td>\n",
       "      <td>NaN</td>\n",
       "      <td>NaN</td>\n",
       "    </tr>\n",
       "  </tbody>\n",
       "</table>\n",
       "</div>"
      ],
      "text/plain": [
       "                               Accident Circumstances  \\\n",
       "0                                      Accident Index   \n",
       "1                                        Police Force   \n",
       "2                                   Accident Severity   \n",
       "3                                  Number of Vehicles   \n",
       "4                                Number of Casualties   \n",
       "5                                   Date (DD/MM/YYYY)   \n",
       "6                                         Day of Week   \n",
       "7                                        Time (HH:MM)   \n",
       "8           Location Easting OSGR (Null if not known)   \n",
       "9          Location Northing OSGR (Null if not known)   \n",
       "10                      Longitude (Null if not known)   \n",
       "11                       Latitude (Null if not known)   \n",
       "12                         Local Authority (District)   \n",
       "13     Local Authority (Highway Authority - ONS code)   \n",
       "14                                     1st Road Class   \n",
       "15                                    1st Road Number   \n",
       "16                                          Road Type   \n",
       "17                                        Speed limit   \n",
       "18                                    Junction Detail   \n",
       "19                                   Junction Control   \n",
       "20                                     2nd Road Class   \n",
       "21                                    2nd Road Number   \n",
       "22                  Pedestrian Crossing-Human Control   \n",
       "23            Pedestrian Crossing-Physical Facilities   \n",
       "24                                   Light Conditions   \n",
       "25                                 Weather Conditions   \n",
       "26                            Road Surface Conditions   \n",
       "27                         Special Conditions at Site   \n",
       "28                                Carriageway Hazards   \n",
       "29                                Urban or Rural Area   \n",
       "30        Did Police Officer Attend Scene of Accident   \n",
       "31  Lower Super Ouput Area of Accident_Location (E...   \n",
       "\n",
       "                             Vehicle  \\\n",
       "0                     Accident Index   \n",
       "1                  Vehicle Reference   \n",
       "2                       Vehicle Type   \n",
       "3            Towing and Articulation   \n",
       "4                  Vehicle Manoeuvre   \n",
       "5   Vehicle Location-Restricted Lane   \n",
       "6                  Junction Location   \n",
       "7           Skidding and Overturning   \n",
       "8          Hit Object in Carriageway   \n",
       "9        Vehicle Leaving Carriageway   \n",
       "10        Hit Object off Carriageway   \n",
       "11               1st Point of Impact   \n",
       "12       Was Vehicle Left Hand Drive   \n",
       "13         Journey Purpose of Driver   \n",
       "14                     Sex of Driver   \n",
       "15                     Age of Driver   \n",
       "16                Age Band of Driver   \n",
       "17                   Engine Capacity   \n",
       "18           Vehicle Propulsion Code   \n",
       "19      Age of Vehicle (manufacture)   \n",
       "20                 Driver IMD Decile   \n",
       "21             Driver Home Area Type   \n",
       "22                               NaN   \n",
       "23                               NaN   \n",
       "24                               NaN   \n",
       "25                               NaN   \n",
       "26                               NaN   \n",
       "27                               NaN   \n",
       "28                               NaN   \n",
       "29                               NaN   \n",
       "30                               NaN   \n",
       "31                               NaN   \n",
       "\n",
       "                                          Casualty  \n",
       "0                                   Accident Index  \n",
       "1                                Vehicle Reference  \n",
       "2                               Casualty Reference  \n",
       "3                                   Casualty Class  \n",
       "4                                  Sex of Casualty  \n",
       "5                                  Age of Casualty  \n",
       "6                             Age Band of Casualty  \n",
       "7                                Casualty Severity  \n",
       "8                              Pedestrian Location  \n",
       "9                              Pedestrian Movement  \n",
       "10                                   Car Passenger  \n",
       "11                          Bus or Coach Passenger  \n",
       "12  Pedestrian Road Maintenance Worker (From 2011)  \n",
       "13                                   Casualty Type  \n",
       "14                             Casualty IMD Decile  \n",
       "15                         Casualty Home Area Type  \n",
       "16                                             NaN  \n",
       "17                                             NaN  \n",
       "18                                             NaN  \n",
       "19                                             NaN  \n",
       "20                                             NaN  \n",
       "21                                             NaN  \n",
       "22                                             NaN  \n",
       "23                                             NaN  \n",
       "24                                             NaN  \n",
       "25                                             NaN  \n",
       "26                                             NaN  \n",
       "27                                             NaN  \n",
       "28                                             NaN  \n",
       "29                                             NaN  \n",
       "30                                             NaN  \n",
       "31                                             NaN  "
      ]
     },
     "execution_count": 1,
     "metadata": {},
     "output_type": "execute_result"
    }
   ],
   "source": [
    "import numpy as np\n",
    "import pandas as pd\n",
    "import seaborn as sns\n",
    "import matplotlib.pyplot as plt\n",
    "\n",
    "%matplotlib inline\n",
    "%config InlineBackend.figure_format = 'retina'\n",
    "\n",
    "DATA_PATH = \"data/uk-2016-road-safety-data/\"\n",
    "files = !ls $DATA_PATH\n",
    "pd.read_excel(DATA_PATH + files.grep(\"xls\").s, sheet_name=1, header=2)"
   ]
  },
  {
   "cell_type": "markdown",
   "metadata": {},
   "source": [
    "### Basic level\n",
    "\n",
    "**Read the main dataset using Pandas.**"
   ]
  },
  {
   "cell_type": "code",
   "execution_count": 2,
   "metadata": {},
   "outputs": [
    {
     "name": "stdout",
     "output_type": "stream",
     "text": [
      "Main file -  dftRoadSafety_Accidents_2016.csv\n"
     ]
    }
   ],
   "source": [
    "# Please use a single code cell for each question answer\n",
    "print(\"Main file - \", files[-1])"
   ]
  },
  {
   "cell_type": "markdown",
   "metadata": {},
   "source": [
    "**Check the number of rows and columns.**"
   ]
  },
  {
   "cell_type": "markdown",
   "metadata": {},
   "source": [
    "**Check the data type of each column.**"
   ]
  },
  {
   "cell_type": "markdown",
   "metadata": {},
   "source": [
    "**Read the main dataset again, using `dtype={...}` argument to specify data types. See if you can avoid a mixed types warning.**"
   ]
  },
  {
   "cell_type": "markdown",
   "metadata": {},
   "source": [
    "**Read the main dataset again, using an appropriate argument to specify missing data values.**"
   ]
  },
  {
   "cell_type": "markdown",
   "metadata": {},
   "source": [
    "**Convert `Date` column to datetime.**"
   ]
  },
  {
   "cell_type": "markdown",
   "metadata": {},
   "source": [
    "**Create a new column that shows month of a year value for every accident in the main dataset.**"
   ]
  },
  {
   "cell_type": "markdown",
   "metadata": {},
   "source": [
    "**Create a new column that shows hour of the day (24h format) for every accident in the main dataset.**"
   ]
  },
  {
   "cell_type": "markdown",
   "metadata": {},
   "source": [
    "**Report average number of casualties depending on accident severity.**"
   ]
  },
  {
   "cell_type": "markdown",
   "metadata": {},
   "source": [
    "**Create a stacked barplot by accident severity occurrences in different months.** "
   ]
  },
  {
   "cell_type": "markdown",
   "metadata": {},
   "source": [
    "**Create a stacked barplot by accident severity occurrences in different months for the last full year of data only.** "
   ]
  },
  {
   "cell_type": "markdown",
   "metadata": {},
   "source": [
    "**Create a stacked barplot by accident severity occurrences based on the hour of the day.** "
   ]
  },
  {
   "cell_type": "markdown",
   "metadata": {},
   "source": [
    "### Intermediate level\n",
    "\n",
    "**Use appropriate plots for the following relationships:**\n",
    "- Number of casualties by weather conditions\n",
    "- Number of casualties by number of vehicles involved\n",
    "- Number of casualties by hour of the day\n",
    "- Number of casualties by month"
   ]
  },
  {
   "cell_type": "markdown",
   "metadata": {},
   "source": [
    "**Describe a nature of relationship between speed limit and accident severity.**"
   ]
  },
  {
   "cell_type": "markdown",
   "metadata": {},
   "source": [
    "**Load `Casuality` and `Vehicle` datasets and combine them with your base dataset.**"
   ]
  },
  {
   "cell_type": "markdown",
   "metadata": {},
   "source": [
    "**Visualise/Describe relationships between:**\n",
    "- casualty severity\n",
    "- engine capacity\n",
    "- driver age\n",
    "- vehicle age\n",
    "- hour of the accident\n",
    "- month of the accident"
   ]
  },
  {
   "cell_type": "markdown",
   "metadata": {},
   "source": [
    "### Advanced level"
   ]
  },
  {
   "cell_type": "markdown",
   "metadata": {},
   "source": [
    "**Repeat the last intermediate task using the same 6 features, but consider the relationships for people using cars (excluding minibuses, buses, vans, and goods vehicles), motorcycles (including electric motorcycles), and bicycles separately.**"
   ]
  },
  {
   "cell_type": "markdown",
   "metadata": {},
   "source": [
    "**Remove outliers that you can identify (if any), and justify your decisions.**"
   ]
  },
  {
   "cell_type": "markdown",
   "metadata": {},
   "source": [
    "**Using `MakeModel` data, identify 5 vehicle makes (separately for cars and motorcycles) that are most commonly involved in fatal accidents based on this data. Report proportion of accidents for these 10 vehicle makers.**"
   ]
  },
  {
   "cell_type": "markdown",
   "metadata": {},
   "source": [
    "**What are most dangerous vehicle manoeuvres and why?**"
   ]
  },
  {
   "cell_type": "markdown",
   "metadata": {},
   "source": [
    "**Which initial point of impact is most dangerous and why?**"
   ]
  },
  {
   "cell_type": "markdown",
   "metadata": {},
   "source": [
    "**Who are safer drivers: women or men, and why?**"
   ]
  },
  {
   "cell_type": "markdown",
   "metadata": {},
   "source": [
    "**What is safer in terms of number of fatalities in severe car accidents: rear or front seats, and why?**"
   ]
  },
  {
   "cell_type": "markdown",
   "metadata": {},
   "source": [
    "### Bonus"
   ]
  },
  {
   "cell_type": "markdown",
   "metadata": {},
   "source": [
    "**Plot accident locations using Geopandas. User color coding to indicate incident severity.**"
   ]
  },
  {
   "cell_type": "markdown",
   "metadata": {},
   "source": [
    "**What other interesting relationships can you identify in the dataset?**"
   ]
  },
  {
   "cell_type": "markdown",
   "metadata": {},
   "source": [
    "**What interesting questions can you ask/answer about/using the dataset?**"
   ]
  }
 ],
 "metadata": {
  "kernelspec": {
   "display_name": "Python 3",
   "language": "python",
   "name": "python3"
  },
  "language_info": {
   "codemirror_mode": {
    "name": "ipython",
    "version": 3
   },
   "file_extension": ".py",
   "mimetype": "text/x-python",
   "name": "python",
   "nbconvert_exporter": "python",
   "pygments_lexer": "ipython3",
   "version": "3.6.5"
  }
 },
 "nbformat": 4,
 "nbformat_minor": 2
}
